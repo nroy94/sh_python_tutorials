{
 "cells": [
  {
   "cell_type": "markdown",
   "metadata": {},
   "source": [
    "# Lists\n",
    "\n",
    "Python lists are similar to grocery lists in real life--they store items (usually called \"elements\") that can be different from eachother. Lists can store:\n",
    "\n",
    "    - strings \n",
    "    - integers\n",
    "    - other lists\n",
    "    - tuples\n",
    "    - dictionaries\n",
    "    - functions\n",
    "    - and more\n",
    "\n",
    "They are very handy when you want to take a collections objects to do something with them (e.g. a list of dataframes and you want to transform the first column of each dataframe, go through the column names of a dataframe and standardize them all).\n",
    "\n",
    "\n",
    "**Table of Contents:**\n",
    "\n",
    "a. <a href=\"#Indexing-a-List\">Indexing a List</a><br>\n",
    "b. <a href=\"#List-Slicing\">List Slicing</a><br>\n",
    "c. <a href=\"#Iterating-through-a-list\">Iterating through a List</a><br>\n",
    "d. <a href=\"#List-Element-Assignment\">List Element Assignment</a><br>\n",
    "e. <a href=\"#Tuples\">Tuples</a><br>\n",
    "f.  <a href=\"#Zip-and-Enumerate\">Zip and Enumerate</a><br>\n",
    "g. <a href=\"#Common-List-Methods\">Common List Methods</a><br>\n",
    "h. <a href=\"#Sorting-Lists\">Sorting Lists</a><br>\n",
    "h. <a href=\"#List-Comprehensions\">List Comprehensions</a><br>"
   ]
  },
  {
   "cell_type": "markdown",
   "metadata": {},
   "source": [
    "List Syntax:\n",
    "\n",
    "### ```[item1, item2, item3, ...]```<br>\n",
    "\n",
    "### Indexing a List \n",
    "\n",
    "Python lists start with the 0 instead of 1."
   ]
  },
  {
   "cell_type": "code",
   "execution_count": 2,
   "metadata": {},
   "outputs": [],
   "source": [
    "# let's use this sample list of string elements\n",
    "# we store the list in the variable \"friends\"\n",
    "friends = ['Chandler', 'Monica', 'Joey', 'Rachel', 'Ross', 'Kramer'] "
   ]
  },
  {
   "cell_type": "markdown",
   "metadata": {},
   "source": [
    "<img src=\"list_indices_2.png\" width = \"1200\" height=\"40\">"
   ]
  },
  {
   "cell_type": "code",
   "execution_count": 3,
   "metadata": {},
   "outputs": [
    {
     "data": {
      "text/plain": [
       "'Chandler'"
      ]
     },
     "execution_count": 3,
     "metadata": {},
     "output_type": "execute_result"
    }
   ],
   "source": [
    "# we access the second element with 1, and so on\n",
    "friends[0]"
   ]
  },
  {
   "cell_type": "code",
   "execution_count": 24,
   "metadata": {},
   "outputs": [
    {
     "data": {
      "text/plain": [
       "'Rachel'"
      ]
     },
     "execution_count": 24,
     "metadata": {},
     "output_type": "execute_result"
    }
   ],
   "source": [
    "# I take thee <>\n",
    "friends[3]"
   ]
  },
  {
   "cell_type": "code",
   "execution_count": 71,
   "metadata": {},
   "outputs": [
    {
     "data": {
      "text/plain": [
       "'Kramer'"
      ]
     },
     "execution_count": 71,
     "metadata": {},
     "output_type": "execute_result"
    }
   ],
   "source": [
    "# notice that we have negative indices too\n",
    "\n",
    "friends[-1]  # same as friends[0]"
   ]
  },
  {
   "cell_type": "markdown",
   "metadata": {},
   "source": [
    "### List Slicing\n",
    "\n",
    "What if we wanted to cut out a section of the list? That's what List Slicing is for!<br>\n",
    "\n",
    "A good example of an application of list slicing is if you have data that's already randomized and you need to split it into training and test sets.\n",
    "\n",
    "List splicing syntax is like so:<br>\n",
    "\n",
    "###  **```list[start:end:step]```**<br>\n",
    "\n",
    "start and end will be indices.\n",
    "\n",
    "Note that **<font color=orange>the end value is NOT included.</font>**<br>\n",
    "\n",
    "[<a href=\"#Python-Common-Data-Structures\">Back to top</a>]\n",
    "   \n",
    "<img src=\"list_indices_2.png\" width = \"1200\" height=\"40\">"
   ]
  },
  {
   "cell_type": "code",
   "execution_count": 5,
   "metadata": {},
   "outputs": [
    {
     "data": {
      "text/plain": [
       "['Joey', 'Rachel']"
      ]
     },
     "execution_count": 5,
     "metadata": {},
     "output_type": "execute_result"
    }
   ],
   "source": [
    "friends[1:5]  # get all friends besides the first and the last; remember the end is not included\n",
    "friends[1:]  # get all friends besides the first; if we specify no end then every element after the start is included\n",
    "friends[0:6] # gets all friends besides the last; equivalent to friend[0:5]\n",
    "friends[2:-2] # worst couple and we just don't like friends in general...\n"
   ]
  },
  {
   "cell_type": "markdown",
   "metadata": {},
   "source": [
    "### The Step\n",
    "\n",
    "Consider the example below:"
   ]
  },
  {
   "cell_type": "code",
   "execution_count": 84,
   "metadata": {},
   "outputs": [
    {
     "data": {
      "text/plain": [
       "['Chandler', 'Monica', 'Joey', 'Rachel', 'Ross']"
      ]
     },
     "execution_count": 84,
     "metadata": {},
     "output_type": "execute_result"
    }
   ],
   "source": [
    "friends[0:5] \n",
    "friends[0:5:1] # this is the same thing!"
   ]
  },
  {
   "cell_type": "markdown",
   "metadata": {},
   "source": [
    "This is what is happening, since the step is 1:\n",
    "\n",
    "<img src=\"list_stepping_1.png\" width = \"900\" height=\"20\">\n",
    "\n",
    "What if we increase the stepsize?"
   ]
  },
  {
   "cell_type": "code",
   "execution_count": 7,
   "metadata": {},
   "outputs": [
    {
     "data": {
      "text/plain": [
       "['Chandler', 'Joey', 'Ross']"
      ]
     },
     "execution_count": 7,
     "metadata": {},
     "output_type": "execute_result"
    }
   ],
   "source": [
    "friends[0:5:2] "
   ]
  },
  {
   "cell_type": "markdown",
   "metadata": {},
   "source": [
    "<img src=\"list_stepping.png\" width = \"900\" height=\"20\">"
   ]
  },
  {
   "cell_type": "markdown",
   "metadata": {},
   "source": [
    "Now that we understand the syntax, let's look at some other examples with our list of friends.\n",
    "\n",
    "<img src=\"list_indices_2.png\" width = \"900\" height=\"20\">\n",
    "\n",
    "Syntax:\n",
    "\n",
    "###  **```list[start:end:step]```**<br>"
   ]
  },
  {
   "cell_type": "code",
   "execution_count": 93,
   "metadata": {},
   "outputs": [
    {
     "data": {
      "text/plain": [
       "['Kramer', 'Ross', 'Rachel', 'Joey', 'Monica']"
      ]
     },
     "execution_count": 93,
     "metadata": {},
     "output_type": "execute_result"
    }
   ],
   "source": [
    "friends[1::2]  # what if we wanted to start with Monica and go every 2 and include Kramer?\n",
    "friends[1:5:2]  # if you can't go the full step then that where the slice ends\n",
    "\n",
    "# what if we wanted to go backwards?\n",
    "\n",
    "# friends[4:0:-1] # start with Ross and then go until you hit Chandler. Notice start > end--the step's sign controls this.\n",
    "\n",
    "# friends[0:4:-1] # something nonsensical returns an empty list\n",
    "\n",
    "friends[-1:0:-1] # can use negative indices for the start and end as well; start at Kramer and go until Chandler"
   ]
  },
  {
   "cell_type": "markdown",
   "metadata": {},
   "source": [
    "### Iterating through a list\n",
    "\n",
    "We may traverse a list and use each element in the list to do something. We typically do this using a \"for-loop.\"\n",
    "In a for-loop we go element-by-element in a list and then usually do something with each element\n",
    "<br><br>The syntax is:\n",
    "\n",
    "```python\n",
    "for i in list:\n",
    "    # do something with i\n",
    "```"
   ]
  },
  {
   "cell_type": "code",
   "execution_count": 9,
   "metadata": {},
   "outputs": [
    {
     "data": {
      "text/plain": [
       "['Chandler', 'Monica', 'Joey', 'Rachel', 'Ross', 'Kramer']"
      ]
     },
     "execution_count": 9,
     "metadata": {},
     "output_type": "execute_result"
    }
   ],
   "source": [
    "# let's print out our list for visual aid\n",
    "friends"
   ]
  },
  {
   "cell_type": "code",
   "execution_count": 10,
   "metadata": {},
   "outputs": [
    {
     "name": "stdout",
     "output_type": "stream",
     "text": [
      "Chandler\n",
      "Monica\n",
      "Joey\n",
      "Rachel\n",
      "Ross\n",
      "Kramer\n"
     ]
    }
   ],
   "source": [
    "# i is a temporary variable that takes on the value of each element\n",
    "# i changes its value to the next item in the list after everything in the body of the for-loop is done\n",
    "for i in friends:\n",
    "    print(i) # the body of the for-loop"
   ]
  },
  {
   "cell_type": "code",
   "execution_count": 32,
   "metadata": {},
   "outputs": [
    {
     "name": "stdout",
     "output_type": "stream",
     "text": [
      "Chandler\n",
      "Monica\n",
      "Joey\n",
      "Rachel\n",
      "Ross\n",
      "Kramer\n"
     ]
    }
   ],
   "source": [
    "# the above is very similar to the folowing\n",
    "i = 'Chandler'\n",
    "print(i)\n",
    "i = 'Monica'\n",
    "print(i)\n",
    "i = 'Joey'\n",
    "print(i)\n",
    "i = 'Rachel'\n",
    "print(i)\n",
    "i = 'Ross'\n",
    "print(i)\n",
    "i = 'Kramer'\n",
    "print(i)\n",
    "# etc."
   ]
  },
  {
   "cell_type": "code",
   "execution_count": 30,
   "metadata": {},
   "outputs": [
    {
     "name": "stdout",
     "output_type": "stream",
     "text": [
      "Chandler!\n",
      "Monica!\n",
      "Joey!\n",
      "Rachel!\n",
      "Ross!\n",
      "Kramer!\n"
     ]
    }
   ],
   "source": [
    "# we can change the \"i\" variable to be more clear\n",
    "for friend in friends:\n",
    "    print(friend + \"!\")"
   ]
  },
  {
   "cell_type": "markdown",
   "metadata": {},
   "source": [
    "There are many applications for using a for-loop and a list, but that's out of the scope for this tutorial. The main point here is to show the syntax."
   ]
  },
  {
   "cell_type": "markdown",
   "metadata": {},
   "source": [
    "### List Element Assignment\n",
    "\n",
    "We may change the elements in a list.\n",
    "\n",
    "syntax:\n",
    "\n",
    "### ```list[index] = <new value>```<br>\n",
    "\n",
    "[<a href=\"#Lists\">Back to top</a>]"
   ]
  },
  {
   "cell_type": "code",
   "execution_count": 94,
   "metadata": {},
   "outputs": [
    {
     "data": {
      "text/plain": [
       "['Chandler', 'Monica', 'Joey', 'Rachel', 'Ross', 'Kramer']"
      ]
     },
     "execution_count": 94,
     "metadata": {},
     "output_type": "execute_result"
    }
   ],
   "source": [
    "# let's print out the friends list again\n",
    "friends"
   ]
  },
  {
   "cell_type": "code",
   "execution_count": 98,
   "metadata": {},
   "outputs": [
    {
     "data": {
      "text/plain": [
       "['Chandler', 'Monica', 'Joey', 'Rachel', 'Ross', 'Phoebe']"
      ]
     },
     "execution_count": 98,
     "metadata": {},
     "output_type": "execute_result"
    }
   ],
   "source": [
    "# Let's change \"Kramer\" to \"Phoebe\"\n",
    "friends[-1] = \"Phoebe\"\n",
    "friends"
   ]
  },
  {
   "cell_type": "code",
   "execution_count": 101,
   "metadata": {},
   "outputs": [
    {
     "data": {
      "text/plain": [
       "['Stanley', 'Phyllis', 'Dwight', 'Rachel', 'Ross', 'Kramer']"
      ]
     },
     "execution_count": 101,
     "metadata": {},
     "output_type": "execute_result"
    }
   ],
   "source": [
    "# multiple changes \n",
    "friends[:3] = ['Stanley', 'Phyllis', 'Dwight'] # new list doesn't have to be the same # of elements of the slice\n",
    "\n",
    "friends"
   ]
  },
  {
   "cell_type": "code",
   "execution_count": 15,
   "metadata": {},
   "outputs": [],
   "source": [
    "# changing elements using steps\n",
    "# the number of elements assigned DO matter\n",
    "friends[1::2] = ['Angela', 'Kevin', 'Oscar']  # this will change Phyllis, Rachel, and Phoebe"
   ]
  },
  {
   "cell_type": "code",
   "execution_count": 16,
   "metadata": {},
   "outputs": [
    {
     "data": {
      "text/plain": [
       "['Stanley', 'Angela', 'Dwight', 'Kevin', 'Ross', 'Oscar']"
      ]
     },
     "execution_count": 16,
     "metadata": {},
     "output_type": "execute_result"
    }
   ],
   "source": [
    "friends"
   ]
  },
  {
   "cell_type": "markdown",
   "metadata": {},
   "source": [
    "**<font color=gray>Extra Notes<font>**\n",
    "\n",
    "<font color=gray>If you have select indices that need changes (no pattern) then there are other options as well like below:\n",
    "\n",
    "```python\n",
    "lst = [0,0,0,0,0]\n",
    "target = [99,98]\n",
    "pos = [2,5]\n",
    "for x,y in zip(pos,target):\n",
    "    lst[x] = y\n",
    "```\n",
    "    \n",
    "Using numpy for this also works:\n",
    "\n",
    "```python\n",
    "import numpy as np\n",
    "lst = np.asarray([0,0,0,0,0])\n",
    "lst[[2,5]]=[99, 100]\n",
    "```    \n",
    "<font color=gray>"
   ]
  },
  {
   "cell_type": "markdown",
   "metadata": {},
   "source": [
    "\n",
    "### Tuples\n",
    "\n",
    "Tuples are an *another* data structure that are commonly used with lists and are similar to lists. Interestingly enough, they often appear _inside_ lists.\n",
    "\n",
    "The tuple is a list that is \"immutable\" which means that it *cannot be changed* and therefore cannot be reordered.\n",
    "\n",
    "Tuples, instead of brackets, use parenthesis, and each item is separated by commas. The syntax is below:\n",
    "\n",
    "### ```(item1, item2, item3)```<br>\n",
    "\n",
    "[<a href=\"#Lists\">Back to top</a>]\n"
   ]
  },
  {
   "cell_type": "code",
   "execution_count": 103,
   "metadata": {},
   "outputs": [],
   "source": [
    "# a simple tuple\n",
    "coordinates = (51, -.11, 5)"
   ]
  },
  {
   "cell_type": "code",
   "execution_count": 104,
   "metadata": {},
   "outputs": [
    {
     "data": {
      "text/plain": [
       "(51, -0.11)"
      ]
     },
     "execution_count": 104,
     "metadata": {},
     "output_type": "execute_result"
    }
   ],
   "source": [
    "# indexing\n",
    "coordinates[0:2]"
   ]
  },
  {
   "cell_type": "code",
   "execution_count": 39,
   "metadata": {},
   "outputs": [],
   "source": [
    "# tuples inside of lists\n",
    "country_coords = [('London', 51, -.11),\n",
    "                  ('Alexandria', 31, 29.9),\n",
    "                  ('Ankara', 39, 32.8)]"
   ]
  },
  {
   "cell_type": "code",
   "execution_count": 105,
   "metadata": {},
   "outputs": [
    {
     "ename": "TypeError",
     "evalue": "'tuple' object does not support item assignment",
     "output_type": "error",
     "traceback": [
      "\u001b[1;31m---------------------------------------------------------------------------\u001b[0m",
      "\u001b[1;31mTypeError\u001b[0m                                 Traceback (most recent call last)",
      "\u001b[1;32m<ipython-input-105-8c9fa662a7b7>\u001b[0m in \u001b[0;36m<module>\u001b[1;34m\u001b[0m\n\u001b[0;32m      2\u001b[0m \u001b[0mcoordinates\u001b[0m \u001b[1;33m=\u001b[0m \u001b[1;33m(\u001b[0m\u001b[1;36m51\u001b[0m\u001b[1;33m,\u001b[0m \u001b[1;33m-\u001b[0m\u001b[1;36m.11\u001b[0m\u001b[1;33m)\u001b[0m\u001b[1;33m\u001b[0m\u001b[1;33m\u001b[0m\u001b[0m\n\u001b[0;32m      3\u001b[0m \u001b[1;33m\u001b[0m\u001b[0m\n\u001b[1;32m----> 4\u001b[1;33m \u001b[0mcoordinates\u001b[0m\u001b[1;33m[\u001b[0m\u001b[1;36m0\u001b[0m\u001b[1;33m]\u001b[0m \u001b[1;33m=\u001b[0m \u001b[1;36m1337\u001b[0m\u001b[1;33m\u001b[0m\u001b[1;33m\u001b[0m\u001b[0m\n\u001b[0m",
      "\u001b[1;31mTypeError\u001b[0m: 'tuple' object does not support item assignment"
     ]
    }
   ],
   "source": [
    "# if we try to change it, we'll get an error.\n",
    "coordinates = (51, -.11)\n",
    "coordinates[0] = 1337"
   ]
  },
  {
   "cell_type": "markdown",
   "metadata": {},
   "source": [
    "### Zip and Enumerate\n",
    "\n",
    "Now that we know what lists and tuples are, we can use these two handy functions.\n",
    "\n",
    "<br>\n",
    "[<a href=\"#Lists\">Back to top</a>]"
   ]
  },
  {
   "cell_type": "markdown",
   "metadata": {},
   "source": [
    "### Zip\n",
    "\n",
    "Syntax:\n",
    "\n",
    "### ```zip(list1, list2, ...)```\n",
    "\n",
    "\n",
    "For example: \n",
    "\n",
    "If we have the lists ```['a', 'b', 'c']``` and ```[1, 2, 3]``` then ```zip(['a', 'b', 'c'], [1, 2, 3])``` would be:\n",
    "\n",
    "####  ```[('a', 1), ('b', 1), ('c', 3)]```"
   ]
  },
  {
   "cell_type": "code",
   "execution_count": 107,
   "metadata": {},
   "outputs": [
    {
     "data": {
      "text/plain": [
       "[('a', 1), ('b', 2), ('c', 3)]"
      ]
     },
     "execution_count": 107,
     "metadata": {},
     "output_type": "execute_result"
    }
   ],
   "source": [
    "# note that the zip() doesn't return a list, so we have to turn it into one. It's easier to print with this.\n",
    "list(zip(['a', 'b', 'c'], [1, 2, 3]))"
   ]
  },
  {
   "cell_type": "code",
   "execution_count": 21,
   "metadata": {},
   "outputs": [
    {
     "data": {
      "text/plain": [
       "[('a', 1), ('b', 2)]"
      ]
     },
     "execution_count": 21,
     "metadata": {},
     "output_type": "execute_result"
    }
   ],
   "source": [
    "# what if the lists are different sizes?\n",
    "list(zip(['a', 'b'], [1, 2, 3])) "
   ]
  },
  {
   "cell_type": "code",
   "execution_count": 22,
   "metadata": {},
   "outputs": [
    {
     "data": {
      "text/plain": [
       "[('a', 1), ('b', 2)]"
      ]
     },
     "execution_count": 22,
     "metadata": {},
     "output_type": "execute_result"
    }
   ],
   "source": [
    "list(zip(['a', 'b', 'c'], [1, 2])) "
   ]
  },
  {
   "cell_type": "code",
   "execution_count": 23,
   "metadata": {},
   "outputs": [
    {
     "data": {
      "text/plain": [
       "[('a', 1)]"
      ]
     },
     "execution_count": 23,
     "metadata": {},
     "output_type": "execute_result"
    }
   ],
   "source": [
    "list(zip(['a'], [1, 2, 3])) "
   ]
  },
  {
   "cell_type": "markdown",
   "metadata": {},
   "source": [
    "This means that we can use a for-loop to traverse many lists at a time"
   ]
  },
  {
   "cell_type": "code",
   "execution_count": 49,
   "metadata": {},
   "outputs": [
    {
     "data": {
      "text/plain": [
       "[('a', 1), ('b', 2), ('c', 3)]"
      ]
     },
     "execution_count": 49,
     "metadata": {},
     "output_type": "execute_result"
    }
   ],
   "source": [
    "my_list = list(zip(['a', 'b', 'c'], [1, 2, 3]))\n",
    "my_list"
   ]
  },
  {
   "cell_type": "code",
   "execution_count": 109,
   "metadata": {},
   "outputs": [
    {
     "name": "stdout",
     "output_type": "stream",
     "text": [
      "a! 1\n",
      "b! 2\n",
      "c! 3\n"
     ]
    }
   ],
   "source": [
    "for i, j in my_list:\n",
    "    print(i + \"!\", j)"
   ]
  },
  {
   "cell_type": "code",
   "execution_count": 26,
   "metadata": {},
   "outputs": [
    {
     "name": "stdout",
     "output_type": "stream",
     "text": [
      "a\n",
      "bb\n",
      "ccc\n"
     ]
    }
   ],
   "source": [
    "# fun example\n",
    "for i, j in my_list:\n",
    "    print(i * j)"
   ]
  },
  {
   "cell_type": "markdown",
   "metadata": {},
   "source": [
    "<h3>Enumerate</h3>\n",
    "\n",
    "Enumerate is very similar but you give it one list. Then, for each element in that list, it makes a tuple of that element and its index.\n",
    "\n",
    "Syntax:\n",
    "\n",
    "### ```enumerate(list)``` \n",
    "\n",
    "\n",
    "For example: \n",
    "\n",
    "```enumerate(['Stress Relief', 'Dinner Party', 'Casino Night'])``` would make the object:"
   ]
  },
  {
   "cell_type": "markdown",
   "metadata": {},
   "source": [
    "## ```[(0, 'Stress Relief'), (1, 'Dinner Party'), (2, 'Casino Night')]```"
   ]
  },
  {
   "cell_type": "code",
   "execution_count": 27,
   "metadata": {},
   "outputs": [
    {
     "data": {
      "text/plain": [
       "[(0, 'Stress Relief'), (1, 'Dinner Party'), (2, 'Casino Night')]"
      ]
     },
     "execution_count": 27,
     "metadata": {},
     "output_type": "execute_result"
    }
   ],
   "source": [
    "list(enumerate(['Stress Relief', 'Dinner Party', 'Casino Night']))"
   ]
  },
  {
   "cell_type": "code",
   "execution_count": 112,
   "metadata": {},
   "outputs": [
    {
     "name": "stdout",
     "output_type": "stream",
     "text": [
      "0 Stress Relief\n",
      "1 Dinner Party\n",
      "2 Casino Night\n"
     ]
    }
   ],
   "source": [
    "# we can set the start of the index too:\n",
    "for index, episode in enumerate(['Stress Relief', 'Dinner Party', 'Casino Night'], start = 0):\n",
    "    \n",
    "    print(index, episode)"
   ]
  },
  {
   "cell_type": "markdown",
   "metadata": {},
   "source": [
    "### Common List Methods\n",
    "\n",
    "List objects have methods that let you further manipulate them.\n",
    "\n",
    "Methods use dot syntax like so:<br>\n",
    "\n",
    "```python\n",
    "my_list.append(<new item>)\n",
    "```\n",
    "\n",
    "<font color=gray>Note that some of these don't work on tuples<font>\n",
    "\n",
    "[<a href=\"#Lists\">Back to top</a>]\n",
    "\n",
    "<img src=\"list_functions.png\" width = \"1200\" height=\"40\">"
   ]
  },
  {
   "cell_type": "code",
   "execution_count": 115,
   "metadata": {},
   "outputs": [],
   "source": [
    "fave_food = []\n",
    "\n",
    "# let's add our favorite places to eat in Grand Rapids\n",
    "fave_food.append('ming ten')\n",
    "fave_food.append(\"taco's al cunado\")\n",
    "fave_food.append(\"cousin's tasty chicken\")"
   ]
  },
  {
   "cell_type": "code",
   "execution_count": 116,
   "metadata": {},
   "outputs": [
    {
     "data": {
      "text/plain": [
       "['ming ten', \"taco's al cunado\", \"cousin's tasty chicken\"]"
      ]
     },
     "execution_count": 116,
     "metadata": {},
     "output_type": "execute_result"
    }
   ],
   "source": [
    "fave_food"
   ]
  },
  {
   "cell_type": "code",
   "execution_count": 120,
   "metadata": {},
   "outputs": [
    {
     "data": {
      "text/plain": [
       "['ming ten', \"taco's al cunado\", \"cousin's tasty chicken\"]"
      ]
     },
     "execution_count": 120,
     "metadata": {},
     "output_type": "execute_result"
    }
   ],
   "source": [
    "fave_food.reverse()\n",
    "fave_food"
   ]
  },
  {
   "cell_type": "code",
   "execution_count": 121,
   "metadata": {},
   "outputs": [],
   "source": [
    "fave_fast_foods = [\"mcdonad's\", \"taco bell\", \"wendy's\"]"
   ]
  },
  {
   "cell_type": "code",
   "execution_count": 122,
   "metadata": {},
   "outputs": [],
   "source": [
    "fave_food.extend(fave_fast_foods)  # we can also do this with the + operator"
   ]
  },
  {
   "cell_type": "code",
   "execution_count": 123,
   "metadata": {},
   "outputs": [
    {
     "data": {
      "text/plain": [
       "['ming ten',\n",
       " \"taco's al cunado\",\n",
       " \"cousin's tasty chicken\",\n",
       " \"mcdonad's\",\n",
       " 'taco bell',\n",
       " \"wendy's\"]"
      ]
     },
     "execution_count": 123,
     "metadata": {},
     "output_type": "execute_result"
    }
   ],
   "source": [
    "fave_food"
   ]
  },
  {
   "cell_type": "code",
   "execution_count": 57,
   "metadata": {},
   "outputs": [],
   "source": [
    "# delete the movies you don't like using pop and remove\n",
    "\n",
    "movies = [\n",
    "    \"Batman vs. Superman Dawn of Justice\",\n",
    "    \"Marvel Avenger Movies\",\n",
    "    \"Napolean Dynamite\",\n",
    "    \"Avatar\",\n",
    "    \"any new Stars Wars movie\",\n",
    "    \"Frozen\",\n",
    "    \"Titanic\",\n",
    "    \"Star Wars prequels\",\n",
    "    \"Despicable Me 2\",\n",
    "    \"Toy Story 4\",\n",
    "    \"The Fate of the Furious\",\n",
    "    \"Kazaam\",\n",
    "    \"Space jam 2\",\n",
    "]"
   ]
  },
  {
   "cell_type": "code",
   "execution_count": 124,
   "metadata": {},
   "outputs": [
    {
     "data": {
      "text/plain": [
       "'Napolean Dynamite'"
      ]
     },
     "execution_count": 124,
     "metadata": {},
     "output_type": "execute_result"
    }
   ],
   "source": [
    "# from the above pop or delete the one you hate!\n",
    "movies.pop(2)"
   ]
  },
  {
   "cell_type": "code",
   "execution_count": 125,
   "metadata": {},
   "outputs": [
    {
     "data": {
      "text/plain": [
       "['Batman vs. Superman Dawn of Justice',\n",
       " 'Marvel Avenger Movies',\n",
       " 'Avatar',\n",
       " 'any new Stars Wars movie',\n",
       " 'Frozen',\n",
       " 'Titanic',\n",
       " 'Star Wars prequels',\n",
       " 'Despicable Me 2',\n",
       " 'Toy Story 4',\n",
       " 'The Fate of the Furious',\n",
       " 'Space jam 2']"
      ]
     },
     "execution_count": 125,
     "metadata": {},
     "output_type": "execute_result"
    }
   ],
   "source": [
    "movies"
   ]
  },
  {
   "cell_type": "markdown",
   "metadata": {},
   "source": [
    "### Sorting Lists\n",
    "\n",
    "We can sort a list either ascending or descending. We can also choose _what_ part of the element to sort by.\n",
    "\n",
    "Syntax:\n",
    "\n",
    "### ```list.sort(key = <function>, reverse = <boolean>)```\n",
    "<br>\n",
    "Sorting only works if the elements can be compared (e.g. we can't sort a list of both integers and strings).\n",
    "\n",
    "[<a href=\"#Lists\">Back to top</a>]\n",
    "\n"
   ]
  },
  {
   "cell_type": "code",
   "execution_count": 127,
   "metadata": {},
   "outputs": [
    {
     "data": {
      "text/plain": [
       "['c', 'b', 'a']"
      ]
     },
     "execution_count": 127,
     "metadata": {},
     "output_type": "execute_result"
    }
   ],
   "source": [
    "my_list = ['a','c', 'b']\n",
    "\n",
    "# typically if you exclude the arguments, then it'll sort ascending\n",
    "my_list.sort(reverse = True)\n",
    "\n",
    "my_list"
   ]
  },
  {
   "cell_type": "code",
   "execution_count": 38,
   "metadata": {},
   "outputs": [
    {
     "data": {
      "text/plain": [
       "['c', 'b', 'a']"
      ]
     },
     "execution_count": 38,
     "metadata": {},
     "output_type": "execute_result"
    }
   ],
   "source": [
    "# we may sort descending\n",
    "my_list.sort(reverse = True)\n",
    "my_list"
   ]
  },
  {
   "cell_type": "code",
   "execution_count": 128,
   "metadata": {},
   "outputs": [],
   "source": [
    "# what if we have elements that are list-like?\n",
    "\n",
    "my_list = [('a', 1),  ('c', 2), ('b', 3)]"
   ]
  },
  {
   "cell_type": "code",
   "execution_count": 131,
   "metadata": {},
   "outputs": [
    {
     "data": {
      "text/plain": [
       "[('a', 1), ('c', 2), ('b', 3)]"
      ]
     },
     "execution_count": 131,
     "metadata": {},
     "output_type": "execute_result"
    }
   ],
   "source": [
    "my_list.sort() # this naturally sorts by the first element of each tuple element\n",
    "my_list\n",
    "# we can sort by the second item in the list as well\n",
    "my_list.sort(key = lambda item: item[1])\n",
    "my_list"
   ]
  },
  {
   "cell_type": "markdown",
   "metadata": {},
   "source": [
    "### List Comprehensions\n",
    "\n",
    "A shorthand way to write lists based on other lists.\n",
    "\n",
    "Syntax:\n",
    "\n",
    "### ```[item for item in list]```\n",
    "<br>\n",
    "\n",
    "[<a href=\"#Lists\">Back to top</a>]\n",
    "\n"
   ]
  },
  {
   "cell_type": "code",
   "execution_count": 132,
   "metadata": {},
   "outputs": [],
   "source": [
    "# Let's say that we what to take a list of numbers and square them\n",
    "\n",
    "my_numbers = [1, 2, 3, 4]\n",
    "\n",
    "my_squares = [] \n",
    "for number in my_numbers:\n",
    "    my_squares.append(number ** 2)"
   ]
  },
  {
   "cell_type": "code",
   "execution_count": 133,
   "metadata": {},
   "outputs": [
    {
     "data": {
      "text/plain": [
       "[1, 4, 9, 16]"
      ]
     },
     "execution_count": 133,
     "metadata": {},
     "output_type": "execute_result"
    }
   ],
   "source": [
    "my_squares"
   ]
  },
  {
   "cell_type": "code",
   "execution_count": 43,
   "metadata": {},
   "outputs": [
    {
     "data": {
      "text/plain": [
       "[1, 4, 9, 16]"
      ]
     },
     "execution_count": 43,
     "metadata": {},
     "output_type": "execute_result"
    }
   ],
   "source": [
    "# list comprehension version; this compresses the 3 lines of code into one\n",
    "[number ** 2 for number in my_numbers]"
   ]
  },
  {
   "cell_type": "markdown",
   "metadata": {},
   "source": [
    "List comprehensions work with conditions too:\n",
    "\n",
    "### ```[item for item in list if (condition)]```<br>"
   ]
  },
  {
   "cell_type": "code",
   "execution_count": 134,
   "metadata": {},
   "outputs": [],
   "source": [
    "my_numbers = [1, 2, 3, 4]\n",
    "\n",
    "my_even_squares = [] \n",
    "for number in my_numbers:\n",
    "    if number % 2 == 0:\n",
    "        my_even_squares.append(number ** 2)"
   ]
  },
  {
   "cell_type": "code",
   "execution_count": 135,
   "metadata": {},
   "outputs": [
    {
     "data": {
      "text/plain": [
       "[4, 16]"
      ]
     },
     "execution_count": 135,
     "metadata": {},
     "output_type": "execute_result"
    }
   ],
   "source": [
    "my_even_squares"
   ]
  },
  {
   "cell_type": "code",
   "execution_count": 136,
   "metadata": {},
   "outputs": [
    {
     "data": {
      "text/plain": [
       "[4, 16]"
      ]
     },
     "execution_count": 136,
     "metadata": {},
     "output_type": "execute_result"
    }
   ],
   "source": [
    "# equivalent; compress 4 lines of code\n",
    "[number ** 2 for number in my_numbers if number % 2 == 0]"
   ]
  },
  {
   "cell_type": "markdown",
   "metadata": {},
   "source": [
    "#### Practical Example with Pandas DataFrame"
   ]
  },
  {
   "cell_type": "code",
   "execution_count": 137,
   "metadata": {},
   "outputs": [],
   "source": [
    "import pandas as pd\n",
    "\n",
    "df = pd.DataFrame({'Names': ['James', 'Peter', 'Matthew'],\n",
    "                  'Age Group':['Adult', 'Senior', 'Child'],\n",
    "                  'country name': ['Canada', 'Germany', 'Turkey']})"
   ]
  },
  {
   "cell_type": "code",
   "execution_count": 138,
   "metadata": {},
   "outputs": [
    {
     "data": {
      "text/html": [
       "<div>\n",
       "<style scoped>\n",
       "    .dataframe tbody tr th:only-of-type {\n",
       "        vertical-align: middle;\n",
       "    }\n",
       "\n",
       "    .dataframe tbody tr th {\n",
       "        vertical-align: top;\n",
       "    }\n",
       "\n",
       "    .dataframe thead th {\n",
       "        text-align: right;\n",
       "    }\n",
       "</style>\n",
       "<table border=\"1\" class=\"dataframe\">\n",
       "  <thead>\n",
       "    <tr style=\"text-align: right;\">\n",
       "      <th></th>\n",
       "      <th>Names</th>\n",
       "      <th>Age Group</th>\n",
       "      <th>country name</th>\n",
       "    </tr>\n",
       "  </thead>\n",
       "  <tbody>\n",
       "    <tr>\n",
       "      <th>0</th>\n",
       "      <td>James</td>\n",
       "      <td>Adult</td>\n",
       "      <td>Canada</td>\n",
       "    </tr>\n",
       "    <tr>\n",
       "      <th>1</th>\n",
       "      <td>Peter</td>\n",
       "      <td>Senior</td>\n",
       "      <td>Germany</td>\n",
       "    </tr>\n",
       "    <tr>\n",
       "      <th>2</th>\n",
       "      <td>Matthew</td>\n",
       "      <td>Child</td>\n",
       "      <td>Turkey</td>\n",
       "    </tr>\n",
       "  </tbody>\n",
       "</table>\n",
       "</div>"
      ],
      "text/plain": [
       "     Names Age Group country name\n",
       "0    James     Adult       Canada\n",
       "1    Peter    Senior      Germany\n",
       "2  Matthew     Child       Turkey"
      ]
     },
     "execution_count": 138,
     "metadata": {},
     "output_type": "execute_result"
    }
   ],
   "source": [
    "df"
   ]
  },
  {
   "cell_type": "code",
   "execution_count": 139,
   "metadata": {},
   "outputs": [],
   "source": [
    "# standardize the name with a list comprehension\n",
    "\n",
    "df.columns = [col_name.lower() for col_name in df.columns]"
   ]
  },
  {
   "cell_type": "code",
   "execution_count": 140,
   "metadata": {},
   "outputs": [
    {
     "data": {
      "text/html": [
       "<div>\n",
       "<style scoped>\n",
       "    .dataframe tbody tr th:only-of-type {\n",
       "        vertical-align: middle;\n",
       "    }\n",
       "\n",
       "    .dataframe tbody tr th {\n",
       "        vertical-align: top;\n",
       "    }\n",
       "\n",
       "    .dataframe thead th {\n",
       "        text-align: right;\n",
       "    }\n",
       "</style>\n",
       "<table border=\"1\" class=\"dataframe\">\n",
       "  <thead>\n",
       "    <tr style=\"text-align: right;\">\n",
       "      <th></th>\n",
       "      <th>names</th>\n",
       "      <th>age group</th>\n",
       "      <th>country name</th>\n",
       "    </tr>\n",
       "  </thead>\n",
       "  <tbody>\n",
       "    <tr>\n",
       "      <th>0</th>\n",
       "      <td>James</td>\n",
       "      <td>Adult</td>\n",
       "      <td>Canada</td>\n",
       "    </tr>\n",
       "    <tr>\n",
       "      <th>1</th>\n",
       "      <td>Peter</td>\n",
       "      <td>Senior</td>\n",
       "      <td>Germany</td>\n",
       "    </tr>\n",
       "    <tr>\n",
       "      <th>2</th>\n",
       "      <td>Matthew</td>\n",
       "      <td>Child</td>\n",
       "      <td>Turkey</td>\n",
       "    </tr>\n",
       "  </tbody>\n",
       "</table>\n",
       "</div>"
      ],
      "text/plain": [
       "     names age group country name\n",
       "0    James     Adult       Canada\n",
       "1    Peter    Senior      Germany\n",
       "2  Matthew     Child       Turkey"
      ]
     },
     "execution_count": 140,
     "metadata": {},
     "output_type": "execute_result"
    }
   ],
   "source": [
    "df"
   ]
  }
 ],
 "metadata": {
  "kernelspec": {
   "display_name": "Python 3",
   "language": "python",
   "name": "python3"
  },
  "language_info": {
   "codemirror_mode": {
    "name": "ipython",
    "version": 3
   },
   "file_extension": ".py",
   "mimetype": "text/x-python",
   "name": "python",
   "nbconvert_exporter": "python",
   "pygments_lexer": "ipython3",
   "version": "3.8.8"
  }
 },
 "nbformat": 4,
 "nbformat_minor": 4
}
