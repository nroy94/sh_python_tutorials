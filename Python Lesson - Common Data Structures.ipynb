{
 "cells": [
  {
   "cell_type": "markdown",
   "metadata": {},
   "source": [
    "---\n",
    "# Python Common Data Structures\n",
    "\n",
    "1. <a href=\"#1.-Lists\">Lists</a>\n",
    "2. <a href=\"#2.-Tuples\">Tuples</a>\n",
    "3. Dictionaries\n",
    "---"
   ]
  },
  {
   "cell_type": "markdown",
   "metadata": {},
   "source": [
    "# 1. Lists\n",
    "\n",
    "#### Lists are similar to grocery lists in Python--they store items that can be different from eachother. Lists can store strings, integers, other lists, dictionaries, functions, and much more"
   ]
  },
  {
   "cell_type": "code",
   "execution_count": 1,
   "metadata": {},
   "outputs": [],
   "source": [
    "# a simple list\n",
    "\n",
    "my_var = 'hello'\n",
    "\n",
    "my_list = ['cereal', 42, my_var]"
   ]
  },
  {
   "cell_type": "code",
   "execution_count": 5,
   "metadata": {},
   "outputs": [],
   "source": [
    "# more complicated list \n",
    "def my_func():\n",
    "    return 'goodbye'\n",
    "\n",
    "                                                               # indices\n",
    "my_list = [['fruit loops', 'crispy hexagons', 'corn shapes'],  # 0\n",
    "             42,                                               # 1  \n",
    "             my_var + '!',                                     # 2\n",
    "             my_func                                           # 3\n",
    "          ]"
   ]
  },
  {
   "cell_type": "markdown",
   "metadata": {},
   "source": [
    "#### Python list indices start with 0 and end with the (number of elements in the list - 1)"
   ]
  },
  {
   "cell_type": "code",
   "execution_count": 7,
   "metadata": {},
   "outputs": [
    {
     "data": {
      "text/plain": [
       "['fruit loops', 'crispy hexagons', 'corn shapes']"
      ]
     },
     "execution_count": 7,
     "metadata": {},
     "output_type": "execute_result"
    }
   ],
   "source": [
    "# if we want to retrieve the first value\n",
    "\n",
    "my_list[0]"
   ]
  },
  {
   "cell_type": "code",
   "execution_count": 8,
   "metadata": {},
   "outputs": [
    {
     "data": {
      "text/plain": [
       "'hello!'"
      ]
     },
     "execution_count": 8,
     "metadata": {},
     "output_type": "execute_result"
    }
   ],
   "source": [
    "# if we want to retrieve the 3rd value\n",
    "\n",
    "my_list[2]"
   ]
  },
  {
   "cell_type": "markdown",
   "metadata": {},
   "source": [
    "#### We can have \"negative indices too"
   ]
  },
  {
   "cell_type": "code",
   "execution_count": 9,
   "metadata": {},
   "outputs": [],
   "source": [
    "                                                               # negative indices\n",
    "my_list = [['fruit loops', 'crispy hexagons', 'corn shapes'],  # -4\n",
    "             42,                                               # -3 \n",
    "             my_var + '!',                                     # -2\n",
    "             my_func                                           # -1\n",
    "          ]"
   ]
  },
  {
   "cell_type": "code",
   "execution_count": 10,
   "metadata": {},
   "outputs": [
    {
     "data": {
      "text/plain": [
       "['fruit loops', 'crispy hexagons', 'corn shapes']"
      ]
     },
     "execution_count": 10,
     "metadata": {},
     "output_type": "execute_result"
    }
   ],
   "source": [
    "# if we want to retrieve the first value again\n",
    "\n",
    "my_list[-4]"
   ]
  },
  {
   "cell_type": "markdown",
   "metadata": {},
   "source": [
    "#### List Splicing "
   ]
  },
  {
   "cell_type": "markdown",
   "metadata": {},
   "source": [
    "<img src=\"list_indices.png\" width = \"700\" height=\"40\">"
   ]
  },
  {
   "cell_type": "code",
   "execution_count": 16,
   "metadata": {},
   "outputs": [
    {
     "data": {
      "text/plain": [
       "['Joey', 'Rachel']"
      ]
     },
     "execution_count": 16,
     "metadata": {},
     "output_type": "execute_result"
    }
   ],
   "source": [
    "# let's start fresh with a new list\n",
    "friends = ['Chandler', 'Monica', 'Joey', 'Rachel', 'Ross', 'Kramer']\n",
    "\n",
    "# using colons, we can specific a subset of the list\n",
    "friends[1:]  # gets all friends besides the first\n",
    "friends[1:-1]  # get all friends besides the first and the last; the end is not inclusive\n",
    "friends[2:-2]\n",
    "friends[2:4]  # equivalent to above"
   ]
  },
  {
   "cell_type": "code",
   "execution_count": 30,
   "metadata": {},
   "outputs": [
    {
     "data": {
      "text/plain": [
       "['Kramer', 'Ross', 'Rachel', 'Joey', 'Monica']"
      ]
     },
     "execution_count": 30,
     "metadata": {},
     "output_type": "execute_result"
    }
   ],
   "source": [
    "# stepsize\n",
    "\n",
    "friends[1::2]  # start with the second friends & step 2 until the end\n",
    "friends[1:5:2]  # if you can't go the full step then, it will end\n",
    "\n",
    "friends[::]  # just a copy of the list\n",
    "friends[::-1] # the list backwards; a negative stepsize naturally starts for the back\n",
    "\n",
    "'''[start: end: stepsize]'''\n",
    "\n",
    "friends[1::-1]  # start with Monica and then go backwardsby one until you hit the first element of the list\n",
    "\n",
    "friends[4:0:-1] # start with Ross and then go until you hit Chandler\n",
    "friends[0:4:-1] # something nonsensical returns an empty list\n",
    "\n",
    "friends[-1:0:-1] #"
   ]
  },
  {
   "cell_type": "markdown",
   "metadata": {},
   "source": [
    "## 2. Tuples\n",
    "[<a href=\"#Python-Common-Data-Structures\">Back to top</a>]"
   ]
  },
  {
   "cell_type": "code",
   "execution_count": null,
   "metadata": {},
   "outputs": [],
   "source": []
  }
 ],
 "metadata": {
  "kernelspec": {
   "display_name": "Python 3",
   "language": "python",
   "name": "python3"
  },
  "language_info": {
   "codemirror_mode": {
    "name": "ipython",
    "version": 3
   },
   "file_extension": ".py",
   "mimetype": "text/x-python",
   "name": "python",
   "nbconvert_exporter": "python",
   "pygments_lexer": "ipython3",
   "version": "3.8.3"
  }
 },
 "nbformat": 4,
 "nbformat_minor": 4
}
